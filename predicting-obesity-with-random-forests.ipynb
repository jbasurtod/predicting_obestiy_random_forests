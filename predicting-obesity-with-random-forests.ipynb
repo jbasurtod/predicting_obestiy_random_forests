{
 "cells": [
  {
   "cell_type": "markdown",
   "metadata": {},
   "source": [
    "# Obesity Risk Prediction with a Random Forest Classifier, Cross Validation and Hyperparameter Tunning\n",
    "\n",
    "## Introduction\n",
    "In this Jupyter Notebook, I analyze the Estimation of Obesity Levels [dataset](https://archive.ics.uci.edu/dataset/544/estimation+of+obesity+levels+based+on+eating+habits+and+physical+condition) from the UC Irvine Machine Learning Repository dataset. This dataset offers insights into how eating habits and physical conditions correlate with obesity levels, with the goal of building effective predictive models.\n",
    "\n",
    "You can check this model in action in [this Streamlit App](https://obesitypred.streamlit.app/).\n",
    "\n",
    "## Dataset Overview\n",
    "We are using a [custom-modified version of the dataset](https://www.kaggle.com/datasets/jbasurtod/data-obesity) that I uploaded to Kaggle, which includes:\n",
    "\n",
    "* *original_data.csv*: Raw data with random NULL values.\n",
    "* *data_ready.csv*: A cleaned and imputed subset of 1,000 samples for model training and testing. Columns 'gender' and 'Weight' were removed to enhance model performance and avoid collinearity.\n",
    "* *test_later.csv*: Additional data for final model evaluation.\n",
    "\n",
    "## Model Training and Evaluation\n",
    "A Random Forest Classifier was trained and tuned using cross-validation. The key results are:\n",
    "\n",
    "### On data_ready.csv:\n",
    "\n",
    "* Accuracy: 0.78\n",
    "* Recall for Class 1 (Obesity): 0.87\n",
    "\n",
    "### On test_later.csv:\n",
    "* Accuracy: 0.79\n",
    "* Recall for Class 1 (Obesity): 0.81\n",
    "\n",
    "The recall for identifying obesity, our primary objective, shows a strong performance, reflecting the model’s effectiveness in detecting individuals with obesity. This notebook details the model development process, including data preprocessing, feature engineering, and hyperparameter tuning."
   ]
  },
  {
   "cell_type": "markdown",
   "metadata": {},
   "source": [
    "# Importing Libraries"
   ]
  },
  {
   "cell_type": "code",
   "execution_count": 1,
   "metadata": {},
   "outputs": [],
   "source": [
    "import os\n",
    "import numpy as np\n",
    "import pandas as pd\n",
    "import matplotlib.pyplot as plt\n",
    "from sklearn.ensemble import RandomForestClassifier\n",
    "from sklearn.feature_selection import SelectKBest, f_classif\n",
    "from sklearn.metrics import accuracy_score, confusion_matrix, classification_report\n",
    "from sklearn.model_selection import KFold, ShuffleSplit, train_test_split, GridSearchCV, cross_val_score"
   ]
  },
  {
   "cell_type": "markdown",
   "metadata": {},
   "source": [
    "# Useful Functions"
   ]
  },
  {
   "cell_type": "code",
   "execution_count": 2,
   "metadata": {},
   "outputs": [],
   "source": [
    "def prep_data(datos_input, var_cont, var_categ):\n",
    "    di_cont = []\n",
    "    di_cat = []\n",
    "    if len(var_cont) != 0:\n",
    "        di_cont = pd.DataFrame(datos_input[var_cont], columns = var_cont)\n",
    "    if len(var_categ) != 0:\n",
    "        di_cat = datos_input[var_categ]\n",
    "        di_cat = pd.get_dummies(di_cat, columns = var_categ, drop_first = True, dtype=int)\n",
    "    if len(var_cont) == 0:\n",
    "        data_input = pd.concat([di_cat], axis=1)\n",
    "    elif len(var_categ) == 0:\n",
    "        data_input = pd.concat([di_cont], axis=1)\n",
    "    else:\n",
    "        data_input = pd.concat([di_cont,di_cat], axis=1)\n",
    "    return data_input, di_cont, di_cat\n",
    "def convert_binary_columns_to_str(df: pd.DataFrame) -> pd.DataFrame:\n",
    "    # Iterate through each column in the DataFrame\n",
    "    for column in df.columns:\n",
    "        unique_values = df[column].dropna().unique()\n",
    "        # Check if the column contains exactly two unique values and they are 0 and 1\n",
    "        if len(unique_values) == 2 and set(unique_values) == {0, 1}:\n",
    "            # Convert the column to type str\n",
    "            df[column] = df[column].astype(str)\n",
    "    return df\n",
    "def DataPrep(data, data2):\n",
    "    y = data['NObeyesdad'].astype(int)\n",
    "    del data['NObeyesdad']\n",
    "    y2 = data2['NObeyesdad']\n",
    "    del data2['NObeyesdad']\n",
    "    data = convert_binary_columns_to_str(data)\n",
    "    data2 = convert_binary_columns_to_str(data2)\n",
    "    categ = data.select_dtypes(include=['object', 'category']).columns.tolist()\n",
    "    cont = data.select_dtypes(exclude=['object', 'category']).columns.tolist()\n",
    "    data_inputn, di_contn, di_catn = prep_data(data, cont, categ)\n",
    "    X = data_inputn.copy()\n",
    "    X2 = data2.copy()\n",
    "    inputs, cont, categ = prep_data(X2, cont, categ)\n",
    "    return X, y, inputs, y2\n",
    "def perform_grid_search(cv, model, param_grid, X_train, y_train, X_test, y_test):\n",
    "    grid_search = GridSearchCV(model, param_grid, cv=cv, scoring='accuracy', n_jobs=-1)\n",
    "    grid_search.fit(X_train, y_train)\n",
    "    \n",
    "    best_model = grid_search.best_estimator_\n",
    "    y_pred = best_model.predict(X_test)\n",
    "    accuracy = accuracy_score(y_test, y_pred)\n",
    "    \n",
    "    return best_model, accuracy, grid_search.best_params_"
   ]
  },
  {
   "cell_type": "markdown",
   "metadata": {},
   "source": [
    "# Data Prep\n",
    "As mentioned above, I am using a modified version of the Estimation of Obesity Levels Based On Eating Habits and Physical Condition from UC Irvine. I will upload a notebook with the respective EDA in the future :)"
   ]
  },
  {
   "cell_type": "code",
   "execution_count": 3,
   "metadata": {},
   "outputs": [],
   "source": [
    "seed = 7679"
   ]
  },
  {
   "cell_type": "code",
   "execution_count": 4,
   "metadata": {},
   "outputs": [
    {
     "data": {
      "text/html": [
       "<div>\n",
       "<style scoped>\n",
       "    .dataframe tbody tr th:only-of-type {\n",
       "        vertical-align: middle;\n",
       "    }\n",
       "\n",
       "    .dataframe tbody tr th {\n",
       "        vertical-align: top;\n",
       "    }\n",
       "\n",
       "    .dataframe thead th {\n",
       "        text-align: right;\n",
       "    }\n",
       "</style>\n",
       "<table border=\"1\" class=\"dataframe\">\n",
       "  <thead>\n",
       "    <tr style=\"text-align: right;\">\n",
       "      <th></th>\n",
       "      <th>Age</th>\n",
       "      <th>Height</th>\n",
       "      <th>FCVC</th>\n",
       "      <th>NCP</th>\n",
       "      <th>CH2O</th>\n",
       "      <th>FAF</th>\n",
       "      <th>TUE</th>\n",
       "      <th>family_history_with_overweight</th>\n",
       "      <th>FAVC</th>\n",
       "      <th>CAEC</th>\n",
       "      <th>SMOKE</th>\n",
       "      <th>SCC</th>\n",
       "      <th>CALC</th>\n",
       "      <th>MTRANS</th>\n",
       "      <th>NObeyesdad</th>\n",
       "    </tr>\n",
       "  </thead>\n",
       "  <tbody>\n",
       "    <tr>\n",
       "      <th>0</th>\n",
       "      <td>20.738469</td>\n",
       "      <td>1.759933</td>\n",
       "      <td>2.627031</td>\n",
       "      <td>3.832911</td>\n",
       "      <td>2.993448</td>\n",
       "      <td>2.000000</td>\n",
       "      <td>1.425903</td>\n",
       "      <td>1</td>\n",
       "      <td>1</td>\n",
       "      <td>Sometimes</td>\n",
       "      <td>0</td>\n",
       "      <td>0</td>\n",
       "      <td>no</td>\n",
       "      <td>Public_Transport_Walking</td>\n",
       "      <td>0.0</td>\n",
       "    </tr>\n",
       "    <tr>\n",
       "      <th>1</th>\n",
       "      <td>29.721964</td>\n",
       "      <td>1.918859</td>\n",
       "      <td>2.041376</td>\n",
       "      <td>3.000000</td>\n",
       "      <td>1.120213</td>\n",
       "      <td>1.055450</td>\n",
       "      <td>0.000000</td>\n",
       "      <td>1</td>\n",
       "      <td>1</td>\n",
       "      <td>Sometimes</td>\n",
       "      <td>0</td>\n",
       "      <td>0</td>\n",
       "      <td>Sometimes_Frequently_Always</td>\n",
       "      <td>Public_Transport_Walking</td>\n",
       "      <td>1.0</td>\n",
       "    </tr>\n",
       "    <tr>\n",
       "      <th>2</th>\n",
       "      <td>24.825393</td>\n",
       "      <td>1.603501</td>\n",
       "      <td>2.996186</td>\n",
       "      <td>1.134042</td>\n",
       "      <td>1.270166</td>\n",
       "      <td>0.073065</td>\n",
       "      <td>1.551934</td>\n",
       "      <td>1</td>\n",
       "      <td>1</td>\n",
       "      <td>Sometimes</td>\n",
       "      <td>0</td>\n",
       "      <td>0</td>\n",
       "      <td>no</td>\n",
       "      <td>Public_Transport_Walking</td>\n",
       "      <td>1.0</td>\n",
       "    </tr>\n",
       "    <tr>\n",
       "      <th>3</th>\n",
       "      <td>20.811580</td>\n",
       "      <td>1.741193</td>\n",
       "      <td>3.000000</td>\n",
       "      <td>3.000000</td>\n",
       "      <td>1.768111</td>\n",
       "      <td>0.616503</td>\n",
       "      <td>0.968151</td>\n",
       "      <td>1</td>\n",
       "      <td>1</td>\n",
       "      <td>Sometimes</td>\n",
       "      <td>0</td>\n",
       "      <td>0</td>\n",
       "      <td>Sometimes_Frequently_Always</td>\n",
       "      <td>Public_Transport_Walking</td>\n",
       "      <td>1.0</td>\n",
       "    </tr>\n",
       "    <tr>\n",
       "      <th>4</th>\n",
       "      <td>18.000000</td>\n",
       "      <td>1.770000</td>\n",
       "      <td>3.000000</td>\n",
       "      <td>3.000000</td>\n",
       "      <td>2.000000</td>\n",
       "      <td>1.000000</td>\n",
       "      <td>1.000000</td>\n",
       "      <td>1</td>\n",
       "      <td>1</td>\n",
       "      <td>Sometimes</td>\n",
       "      <td>0</td>\n",
       "      <td>0</td>\n",
       "      <td>Sometimes_Frequently_Always</td>\n",
       "      <td>Public_Transport_Walking</td>\n",
       "      <td>0.0</td>\n",
       "    </tr>\n",
       "  </tbody>\n",
       "</table>\n",
       "</div>"
      ],
      "text/plain": [
       "         Age    Height      FCVC       NCP      CH2O       FAF       TUE  \\\n",
       "0  20.738469  1.759933  2.627031  3.832911  2.993448  2.000000  1.425903   \n",
       "1  29.721964  1.918859  2.041376  3.000000  1.120213  1.055450  0.000000   \n",
       "2  24.825393  1.603501  2.996186  1.134042  1.270166  0.073065  1.551934   \n",
       "3  20.811580  1.741193  3.000000  3.000000  1.768111  0.616503  0.968151   \n",
       "4  18.000000  1.770000  3.000000  3.000000  2.000000  1.000000  1.000000   \n",
       "\n",
       "   family_history_with_overweight  FAVC       CAEC  SMOKE  SCC  \\\n",
       "0                               1     1  Sometimes      0    0   \n",
       "1                               1     1  Sometimes      0    0   \n",
       "2                               1     1  Sometimes      0    0   \n",
       "3                               1     1  Sometimes      0    0   \n",
       "4                               1     1  Sometimes      0    0   \n",
       "\n",
       "                          CALC                    MTRANS  NObeyesdad  \n",
       "0                           no  Public_Transport_Walking         0.0  \n",
       "1  Sometimes_Frequently_Always  Public_Transport_Walking         1.0  \n",
       "2                           no  Public_Transport_Walking         1.0  \n",
       "3  Sometimes_Frequently_Always  Public_Transport_Walking         1.0  \n",
       "4  Sometimes_Frequently_Always  Public_Transport_Walking         0.0  "
      ]
     },
     "execution_count": 4,
     "metadata": {},
     "output_type": "execute_result"
    }
   ],
   "source": [
    "data = pd.read_csv('data/data_ready.csv')\n",
    "data2 = pd.read_csv('data/test_later.csv')\n",
    "data.head()"
   ]
  },
  {
   "cell_type": "code",
   "execution_count": 5,
   "metadata": {},
   "outputs": [],
   "source": [
    "# DataPrep dummifies the data and assigns the right data types\n",
    "X, y, inputs, y2 = DataPrep(data, data2)"
   ]
  },
  {
   "cell_type": "code",
   "execution_count": 6,
   "metadata": {},
   "outputs": [
    {
     "data": {
      "text/plain": [
       "Index(['Age', 'family_history_with_overweight_1', 'FAVC_1', 'CAEC_Sometimes',\n",
       "       'SCC_1'],\n",
       "      dtype='object')"
      ]
     },
     "execution_count": 6,
     "metadata": {},
     "output_type": "execute_result"
    }
   ],
   "source": [
    "# Get the best 5 features with SelectKBest\n",
    "selector = SelectKBest(score_func=f_classif, k=5)\n",
    "\n",
    "X_new = selector.fit_transform(X, y)\n",
    "\n",
    "# get the selected feature names\n",
    "selected_features = X.columns[selector.get_support()]\n",
    "\n",
    "selected_features"
   ]
  },
  {
   "cell_type": "code",
   "execution_count": 7,
   "metadata": {},
   "outputs": [],
   "source": [
    "# splitting the data into train and test\n",
    "X_train, X_test, y_train, y_test = train_test_split(X_new, y, test_size=0.2, random_state=seed)"
   ]
  },
  {
   "cell_type": "code",
   "execution_count": 8,
   "metadata": {},
   "outputs": [],
   "source": [
    "# inputs contains the additional test data\n",
    "inputs = inputs[selected_features]"
   ]
  },
  {
   "cell_type": "markdown",
   "metadata": {},
   "source": [
    "Now, I will define the Cross Validators to plug in my GridSearchCV:"
   ]
  },
  {
   "cell_type": "code",
   "execution_count": 9,
   "metadata": {},
   "outputs": [],
   "source": [
    "# define the cross validators\n",
    "kfold = KFold(n_splits=5, random_state=seed, shuffle=True)\n",
    "shuffle_split = ShuffleSplit(n_splits=5, test_size=0.2, random_state=seed)\n",
    "validators = [kfold, shuffle_split]"
   ]
  },
  {
   "cell_type": "markdown",
   "metadata": {},
   "source": [
    "# Training the Random Forest Model"
   ]
  },
  {
   "cell_type": "code",
   "execution_count": 10,
   "metadata": {},
   "outputs": [],
   "source": [
    "# Parameters Grid for the GridSearchCV\n",
    "param_grid_rf = {\n",
    "    'n_estimators': [100, 200, 300],\n",
    "    'max_depth': [None, 10, 20],\n",
    "    'min_samples_split': [2, 10],\n",
    "    'min_samples_leaf': [1, 5],\n",
    "    'max_features': ['sqrt', 'log2']\n",
    "}"
   ]
  },
  {
   "cell_type": "code",
   "execution_count": 11,
   "metadata": {},
   "outputs": [],
   "source": [
    "# Initializing the random forest model\n",
    "best_rf_model = None\n",
    "best_rf_accuracy = 0\n",
    "best_rf_params = {}\n",
    "rf = RandomForestClassifier(random_state=seed)"
   ]
  },
  {
   "cell_type": "markdown",
   "metadata": {},
   "source": [
    "The Cross Validation iterates over the Validators (two for the moment) and keeps the one with the highest accuracy:"
   ]
  },
  {
   "cell_type": "code",
   "execution_count": 12,
   "metadata": {},
   "outputs": [
    {
     "name": "stdout",
     "output_type": "stream",
     "text": [
      "Using CrossValidator: KFold(n_splits=5, random_state=7679, shuffle=True)\n",
      "RandomForestClassifier - Best Accuracy: 0.755\n",
      "RandomForestClassifier - Best Hyperparameters: {'max_depth': None, 'max_features': 'sqrt', 'min_samples_leaf': 5, 'min_samples_split': 2, 'n_estimators': 100}\n",
      "\n",
      "Using CrossValidator: ShuffleSplit(n_splits=5, random_state=7679, test_size=0.2, train_size=None)\n",
      "RandomForestClassifier - Best Accuracy: 0.78\n",
      "RandomForestClassifier - Best Hyperparameters: {'max_depth': 10, 'max_features': 'sqrt', 'min_samples_leaf': 5, 'min_samples_split': 2, 'n_estimators': 200}\n",
      "\n"
     ]
    }
   ],
   "source": [
    "for validator in validators:\n",
    "    print(f\"Using CrossValidator: {validator}\")\n",
    "    # Random Forest Classifier\n",
    "    best_rf, accuracy_rf, best_params_rf = perform_grid_search(validator, rf, param_grid_rf, X_train, y_train, X_test, y_test)\n",
    "    if accuracy_rf > best_rf_accuracy:\n",
    "        best_rf_model = best_rf\n",
    "        best_rf_accuracy = accuracy_rf\n",
    "        best_rf_params = best_params_rf\n",
    "    print(f\"RandomForestClassifier - Best Accuracy: {accuracy_rf}\")\n",
    "    print(f\"RandomForestClassifier - Best Hyperparameters: {best_params_rf}\")\n",
    "    print()"
   ]
  },
  {
   "cell_type": "code",
   "execution_count": 13,
   "metadata": {},
   "outputs": [
    {
     "name": "stdout",
     "output_type": "stream",
     "text": [
      "\n",
      "Best RandomForestClassifier:\n",
      "RandomForestClassifier(max_depth=10, min_samples_leaf=5, n_estimators=200,\n",
      "                       random_state=7679)\n",
      "RandomForestClassifier Accuracy: 0.78\n",
      "RandomForestClassifier Best Hyperparameters: {'max_depth': 10, 'max_features': 'sqrt', 'min_samples_leaf': 5, 'min_samples_split': 2, 'n_estimators': 200}\n"
     ]
    }
   ],
   "source": [
    "print(\"\\nBest RandomForestClassifier:\")\n",
    "print(best_rf_model)\n",
    "print(\"RandomForestClassifier Accuracy:\", best_rf_accuracy)\n",
    "print(\"RandomForestClassifier Best Hyperparameters:\", best_rf_params)"
   ]
  },
  {
   "cell_type": "markdown",
   "metadata": {},
   "source": [
    "# Testing the Random Forest Model\n",
    "I test the Random Forest with the two datasets available, which gives approximately 1200 test data points. That's more than enough to be sure that our model is well trained :)"
   ]
  },
  {
   "cell_type": "code",
   "execution_count": 14,
   "metadata": {},
   "outputs": [],
   "source": [
    "def TestModelAccuracy(model,X_test,y_test):\n",
    "    y_pred = model.predict(X_test)\n",
    "    # Convert probabilities to binary class labels\n",
    "    y_pred = (y_pred > 0.5).astype(int).flatten()\n",
    "    \n",
    "    print(\"Accuracy:\", accuracy_score(y_test, y_pred))\n",
    "    print(confusion_matrix(y_test, y_pred))\n",
    "    print(classification_report(y_test, y_pred))"
   ]
  },
  {
   "cell_type": "markdown",
   "metadata": {},
   "source": [
    "The Random Forest Classifier achieved an accuracy of 0.78 on the data_ready.csv test data. Notably, the model performed well in identifying obesity (Class 1), with a high recall of 0.87. This indicates that the model is effective at detecting positive cases of obesity, although there is room for improvement in precision for this class. The balanced performance across both classes suggests a robust model, but further fine-tuning could enhance its precision and overall reliability:"
   ]
  },
  {
   "cell_type": "code",
   "execution_count": 15,
   "metadata": {},
   "outputs": [
    {
     "name": "stdout",
     "output_type": "stream",
     "text": [
      "Accuracy: 0.78\n",
      "[[71 31]\n",
      " [13 85]]\n",
      "              precision    recall  f1-score   support\n",
      "\n",
      "           0       0.85      0.70      0.76       102\n",
      "           1       0.73      0.87      0.79        98\n",
      "\n",
      "    accuracy                           0.78       200\n",
      "   macro avg       0.79      0.78      0.78       200\n",
      "weighted avg       0.79      0.78      0.78       200\n",
      "\n"
     ]
    }
   ],
   "source": [
    "TestModelAccuracy(best_rf_model,X_test,y_test)"
   ]
  },
  {
   "cell_type": "markdown",
   "metadata": {},
   "source": [
    "On the test_later.csv data, the model achieved an accuracy of approximately 0.79. It demonstrated solid performance in identifying obesity (Class 1), with a recall of 0.81. This indicates the model's effectiveness in correctly identifying individuals with obesity, though there is a slight trade-off in precision. The overall balanced accuracy and recall suggest that the model generalizes well to new data, maintaining reliable performance in detecting obesity. Further adjustments could optimize precision while preserving the strong recall."
   ]
  },
  {
   "cell_type": "code",
   "execution_count": 16,
   "metadata": {},
   "outputs": [
    {
     "name": "stdout",
     "output_type": "stream",
     "text": [
      "Accuracy: 0.7864077669902912\n",
      "[[411 128]\n",
      " [ 92 399]]\n",
      "              precision    recall  f1-score   support\n",
      "\n",
      "           0       0.82      0.76      0.79       539\n",
      "           1       0.76      0.81      0.78       491\n",
      "\n",
      "    accuracy                           0.79      1030\n",
      "   macro avg       0.79      0.79      0.79      1030\n",
      "weighted avg       0.79      0.79      0.79      1030\n",
      "\n"
     ]
    },
    {
     "name": "stderr",
     "output_type": "stream",
     "text": [
      "/home/juancarlos/anaconda3/envs/mldev/lib/python3.12/site-packages/sklearn/base.py:486: UserWarning: X has feature names, but RandomForestClassifier was fitted without feature names\n",
      "  warnings.warn(\n"
     ]
    }
   ],
   "source": [
    "TestModelAccuracy(best_rf_model,inputs,y2)"
   ]
  },
  {
   "cell_type": "code",
   "execution_count": 17,
   "metadata": {},
   "outputs": [
    {
     "name": "stdout",
     "output_type": "stream",
     "text": [
      "Feature Importances for the Best RandomForestClassifier:\n",
      "                            Feature  Importance\n",
      "0                               Age    0.439913\n",
      "1  family_history_with_overweight_1    0.289108\n",
      "3                    CAEC_Sometimes    0.151084\n",
      "2                            FAVC_1    0.102565\n",
      "4                             SCC_1    0.017330\n"
     ]
    },
    {
     "data": {
      "image/png": "[encoded data removed]",
      "text/plain": [
       "<Figure size 1400x800 with 1 Axes>"
      ]
     },
     "metadata": {},
     "output_type": "display_data"
    }
   ],
   "source": [
    "figure_size = (14,8)\n",
    "feature_names = selected_features\n",
    "\n",
    "# Importancias de características para RandomForestClassifier\n",
    "rf_importances = best_rf_model.feature_importances_\n",
    "\n",
    "# Crear DataFrame para mostrar las importancias\n",
    "rf_importances_df = pd.DataFrame({\n",
    "    'Feature': feature_names,\n",
    "    'Importance': rf_importances\n",
    "}).sort_values(by='Importance', ascending=False)\n",
    "\n",
    "print(\"Feature Importances for the Best RandomForestClassifier:\")\n",
    "print(rf_importances_df)\n",
    "\n",
    "# Graficar importancias\n",
    "plt.figure(figsize=figure_size)\n",
    "bars = plt.barh(rf_importances_df['Feature'], rf_importances_df['Importance'], color='skyblue')\n",
    "plt.xlabel('Importance')\n",
    "plt.ylabel('Features')\n",
    "plt.title('Feature Importance - RandomForestClassifier')\n",
    "plt.gca().invert_yaxis()  # Invertir el eje y para mostrar la característica más importante en la parte superior\n",
    "\n",
    "# Agregar etiquetas de datos\n",
    "for bar in bars:\n",
    "    plt.text(bar.get_width(), bar.get_y() + bar.get_height()/2, f'{bar.get_width():.4f}', va='center')\n",
    "\n",
    "plt.show()"
   ]
  },
  {
   "cell_type": "markdown",
   "metadata": {},
   "source": [
    "The feature importances from the Random Forest Classifier reveal the following key insights:\n",
    "\n",
    "Age is the most influential feature, contributing 43.99% to the model's decision-making process. This underscores the significant role that age plays in estimating obesity levels.\n",
    "Family History with Overweight has a substantial impact as well, with an importance score of 28.91%. This suggests that a family history of overweight issues is a strong predictor of obesity.\n",
    "CAEC_Sometimes (frequency of eating away from home) contributes 15.11%, indicating that eating habits are a notable factor in predicting obesity.\n",
    "FAVC_1 (frequency of eating high-calorie foods) has an importance of 10.26%, reflecting its role in the obesity prediction model.\n",
    "SCC_1 (number of soft drinks consumed) has a minimal contribution of 1.73%, suggesting it has a lesser impact compared to other features.\n",
    "Overall, the model highlights age and family history as the most critical predictors of obesity, with eating habits also playing a significant role."
   ]
  },
  {
   "cell_type": "markdown",
   "metadata": {},
   "source": [
    "# Conclusions\n",
    "This analysis demonstrates the effectiveness of a Random Forest Classifier in predicting obesity levels based on eating habits and physical conditions. The model achieved a robust accuracy of 0.78 on the training data (data_ready.csv) and approximately 0.79 on the additional test data (test_later.csv), indicating good generalization to new data.\n",
    "\n",
    "## Key Findings:\n",
    "* **Recall for Identifying Obesity:** The model showed strong recall scores of 0.87 on the training set and 0.81 on the test set, reflecting its effectiveness in correctly identifying individuals with obesity.\n",
    "* **Feature Importances:** The analysis identified key predictors of obesity, with Age and Family History with Overweight being the most influential features. Eating habits also contributed significantly, highlighting their relevance in predicting obesity."
   ]
  },
  {
   "cell_type": "code",
   "execution_count": null,
   "metadata": {},
   "outputs": [],
   "source": []
  }
 ],
 "metadata": {
  "kaggle": {
   "accelerator": "none",
   "dataSources": [
    {
     "datasetId": 5493607,
     "sourceId": 9102667,
     "sourceType": "datasetVersion"
    }
   ],
   "dockerImageVersionId": 30746,
   "isGpuEnabled": false,
   "isInternetEnabled": true,
   "language": "python",
   "sourceType": "notebook"
  },
  "kernelspec": {
   "display_name": "Python 3 (ipykernel)",
   "language": "python",
   "name": "python3"
  },
  "language_info": {
   "codemirror_mode": {
    "name": "ipython",
    "version": 3
   },
   "file_extension": ".py",
   "mimetype": "text/x-python",
   "name": "python",
   "nbconvert_exporter": "python",
   "pygments_lexer": "ipython3",
   "version": "3.12.4"
  }
 },
 "nbformat": 4,
 "nbformat_minor": 4
}
